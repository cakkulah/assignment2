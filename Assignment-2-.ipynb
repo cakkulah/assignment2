{
 "cells": [
  {
   "cell_type": "code",
   "execution_count": 7,
   "metadata": {},
   "outputs": [],
   "source": [
    "x = open(\"/home/tascib/shared_folder/MOBG2143/assignment_2/16s_database.fasta\", 'r')\n",
    "\n",
    "file_lines = x.readlines()\n",
    "\n",
    "x.close()"
   ]
  },
  {
   "cell_type": "code",
   "execution_count": 8,
   "metadata": {},
   "outputs": [],
   "source": [
    "seq_id = []\n",
    "sequence = str()\n",
    "sequence_array = []\n",
    "\n",
    "dict_seq_id_seq = {}\n",
    "\n",
    "for k in file_lines:\n",
    "    if \">\" in k:\n",
    "        seq_id.append(k)\n",
    "for k in file_lines:\n",
    "    if \">\" in k:\n",
    "        sequence_array.append(sequence)\n",
    "        sequence = str()\n",
    "    else:\n",
    "        sequence = sequence +k\n",
    "\n",
    "sequence_array.append(sequence)\n",
    "\n",
    "del sequence_array[0]\n",
    "\n",
    "for k in range(len(seq_id)):\n",
    "    seq_id[k] = seq_id[k].replace('\\n', \"\")\n",
    "    \n",
    "for k in range(len(sequence_array)):\n",
    "    sequence_array[k] = sequence_array[k].replace('\\n', \"\")"
   ]
  },
  {
   "cell_type": "code",
   "execution_count": 9,
   "metadata": {},
   "outputs": [],
   "source": [
    "array_extracted = []\n",
    "array_extracted2 = []\n",
    "stop_codons = [\"UAG\", \"UAA\", \"UGA\"]\n",
    "start_codon = [\"AUG\"]\n",
    "\n",
    "start_codons = []\n",
    "\n",
    "for k in range(len(sequence_array)):\n",
    "    to_be_extracted = sequence_array[k]\n",
    "    start_codon_position = []\n",
    "    stop_codon_positions = []\n",
    "\n",
    "    n = len(to_be_extracted)\n",
    "    m = 0\n",
    "\n",
    "    while m < n - 2:\n",
    "        # extract a three-nucleotide subsequence\n",
    "        possible_codon = to_be_extracted[m:m + 3]\n",
    "        if possible_codon in start_codon:\n",
    "            start_codon_position.append(m)\n",
    "            break\n",
    "        m = m+1\n",
    "\n",
    "\n",
    "    ind = start_codon_position[0]+3\n",
    "    while ind < n - 2:\n",
    "        possible_codon = to_be_extracted[ind:ind + 3]\n",
    "        if possible_codon in stop_codons:\n",
    "            stop_codon_positions.append(ind)\n",
    "            break\n",
    "        ind = ind + 1\n",
    "\n",
    "    array_extracted.append(to_be_extracted[start_codon_position[0]:stop_codon_positions[0] + 3])\n",
    "    array_extracted2.append(to_be_extracted[start_codon_position[0] + 3:stop_codon_positions[0]])"
   ]
  },
  {
   "cell_type": "code",
   "execution_count": 10,
   "metadata": {},
   "outputs": [],
   "source": [
    "coding_region = str()\n",
    "\n",
    "for k in range(len(seq_id)):\n",
    "    coding_region = coding_region+seq_id[k] + \"\\n\" + array_extracted[k] +\"\\n\""
   ]
  },
  {
   "cell_type": "code",
   "execution_count": 11,
   "metadata": {},
   "outputs": [],
   "source": [
    "save_coding_region = open(r'/home/tascib/codding_reagion.fasta', 'w+')\n",
    "save_coding_region.write(coding_region)\n",
    "save_coding_region.close()"
   ]
  },
  {
   "cell_type": "code",
   "execution_count": 90,
   "metadata": {},
   "outputs": [],
   "source": []
  },
  {
   "cell_type": "code",
   "execution_count": 12,
   "metadata": {},
   "outputs": [],
   "source": [
    "coding_region1 = str()\n",
    "\n",
    "for k in range(len(seq_id)):\n",
    "    coding_region1 = coding_region1+seq_id[k] + \"\\n\" + array_extracted2[k] +\"\\n\"\n"
   ]
  },
  {
   "cell_type": "code",
   "execution_count": 75,
   "metadata": {},
   "outputs": [],
   "source": [
    "# save_coding_region = open(r'/home/tascib/coding_region_without_start_stop_codons.fasta', 'w+')\n",
    "# save_coding_region.write(coding_region1)\n",
    "# save_coding_region.close()"
   ]
  },
  {
   "cell_type": "code",
   "execution_count": 76,
   "metadata": {},
   "outputs": [],
   "source": []
  },
  {
   "cell_type": "code",
   "execution_count": 13,
   "metadata": {},
   "outputs": [],
   "source": [
    "coding_region_lengths = []\n",
    "\n",
    "for k in range(len(array_extracted2)):\n",
    "    coding_region_lengths.append(len(array_extracted2[k]))"
   ]
  },
  {
   "cell_type": "code",
   "execution_count": 14,
   "metadata": {},
   "outputs": [],
   "source": [
    "sequence_identifiers = []\n",
    "\n",
    "for k in range(len(seq_id)):\n",
    "    id = seq_id[k].split(\" \")\n",
    "    id = id[0]\n",
    "    \n",
    "    sequence_identifiers.append(id[1:])"
   ]
  },
  {
   "cell_type": "code",
   "execution_count": 16,
   "metadata": {},
   "outputs": [
    {
     "data": {
      "text/plain": [
       "225"
      ]
     },
     "execution_count": 16,
     "metadata": {},
     "output_type": "execute_result"
    }
   ],
   "source": [
    "len(sequence_identifiers)"
   ]
  },
  {
   "cell_type": "code",
   "execution_count": 15,
   "metadata": {},
   "outputs": [],
   "source": [
    "zip_iterator = zip(sequence_identifiers, coding_region_lengths)\n",
    "dict_lengths = dict(zip_iterator)"
   ]
  },
  {
   "cell_type": "code",
   "execution_count": 17,
   "metadata": {},
   "outputs": [
    {
     "name": "stdout",
     "output_type": "stream",
     "text": [
      "True\n"
     ]
    }
   ],
   "source": [
    "import pickle \n",
    "# ERROR\n",
    "\n",
    "with open(r'/home/tascib/lengths.pkl','wb') as handle:\n",
    "    pickle.dump(dict_lengths, handle, protocol=pickle.HIGHEST_PROTOCOL)\n",
    "\n",
    "with open(r'/home/tascib/lengths.pkl', 'rb') as handle:\n",
    "    lengths = pickle.load(handle)\n",
    "\n",
    "print(dict_lengths == lengths)"
   ]
  },
  {
   "cell_type": "code",
   "execution_count": 18,
   "metadata": {},
   "outputs": [],
   "source": [
    "import pickle\n",
    "\n",
    "f = open(r'/home/tascib/lengths.pkl','wb')\n",
    "pickle.dump(dict_lengths,f)\n",
    "f.close()"
   ]
  },
  {
   "cell_type": "code",
   "execution_count": 19,
   "metadata": {},
   "outputs": [],
   "source": [
    "sequence_identifiers2 = []\n",
    "domain_phylum_class = []\n",
    "\n",
    "for k in range(len(seq_id)):\n",
    "    id = seq_id[k].split(\" \")\n",
    "        \n",
    "    sequence_identifiers2.append(id[1])\n",
    "\n",
    "for k in range(len(sequence_identifiers2)):\n",
    "    three_fields = sequence_identifiers2[k].split(\";\")\n",
    "    domain_phylum_class.append(three_fields[0:3])\n",
    "\n",
    "    "
   ]
  },
  {
   "cell_type": "code",
   "execution_count": 21,
   "metadata": {},
   "outputs": [],
   "source": [
    "\n",
    "zip_iterator2 = zip(sequence_identifiers, domain_phylum_class)\n",
    "dict_columns = dict(zip_iterator2)"
   ]
  },
  {
   "cell_type": "code",
   "execution_count": 22,
   "metadata": {},
   "outputs": [],
   "source": [
    "import csv\n",
    "with open(r'/home/tascib/tsvfile_emir.tsv', 'wt') as file:\n",
    "    tsv_writer = csv.writer(file, delimiter = '\\t')\n",
    "    tsv_writer.writerow(['SequenceID', 'Domain', 'Phylum', 'Class'])\n",
    "    \n",
    "    for k in range(len(sequence_identifiers)):\n",
    "        argument1 = []\n",
    "        \n",
    "        argument1.append(sequence_identifiers[k])\n",
    "        argument1.append(domain_phylum_class[k][0])\n",
    "        argument1.append(domain_phylum_class[k][1])\n",
    "        if len(domain_phylum_class[k])>2:\n",
    "            argument1.append(domain_phylum_class[k][2])\n",
    "        else:\n",
    "            pass\n",
    "     \n",
    "        \n",
    "        tsv_writer.writerow(argument1)\n",
    "  \n"
   ]
  },
  {
   "cell_type": "code",
   "execution_count": 23,
   "metadata": {},
   "outputs": [
    {
     "data": {
      "text/plain": [
       "225"
      ]
     },
     "execution_count": 23,
     "metadata": {},
     "output_type": "execute_result"
    }
   ],
   "source": [
    "len(sequence_identifiers)"
   ]
  },
  {
   "cell_type": "code",
   "execution_count": 24,
   "metadata": {},
   "outputs": [
    {
     "data": {
      "text/plain": [
       "225"
      ]
     },
     "execution_count": 24,
     "metadata": {},
     "output_type": "execute_result"
    }
   ],
   "source": [
    "len(domain_phylum_class)"
   ]
  },
  {
   "cell_type": "code",
   "execution_count": 25,
   "metadata": {},
   "outputs": [],
   "source": [
    "x = open(r'/home/tascib/tsvfile_emir.tsv', 'r')\n",
    "\n",
    "file_lines = x.readlines()\n",
    "\n",
    "x.close()"
   ]
  },
  {
   "cell_type": "code",
   "execution_count": 26,
   "metadata": {},
   "outputs": [
    {
     "data": {
      "text/plain": [
       "226"
      ]
     },
     "execution_count": 26,
     "metadata": {},
     "output_type": "execute_result"
    }
   ],
   "source": [
    "len(file_lines)"
   ]
  },
  {
   "cell_type": "code",
   "execution_count": null,
   "metadata": {},
   "outputs": [],
   "source": []
  }
 ],
 "metadata": {
  "kernelspec": {
   "display_name": "Python 3",
   "language": "python",
   "name": "python3"
  },
  "language_info": {
   "codemirror_mode": {
    "name": "ipython",
    "version": 3
   },
   "file_extension": ".py",
   "mimetype": "text/x-python",
   "name": "python",
   "nbconvert_exporter": "python",
   "pygments_lexer": "ipython3",
   "version": "3.8.5"
  }
 },
 "nbformat": 4,
 "nbformat_minor": 4
}
